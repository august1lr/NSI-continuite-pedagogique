{
 "cells": [
  {
   "cell_type": "markdown",
   "metadata": {},
   "source": [
    "# <center><font color =\"red\">Un autre exemple d'algorithme glouton :   </font></center>\n",
    "# <center><font color =\"red\">Le problème du sac à dos</font></center>"
   ]
  },
  {
   "cell_type": "markdown",
   "metadata": {},
   "source": [
    "\n",
    "# <font color=#3D6BBC >1. Algorithmes gloutons </font>\n",
    "### <font color=#3D6BBC >Définition:</font>\n",
    "\n",
    "    \n",
    "--- \n",
    "Les algorithmes gloutons constituent une grande famille d'algorithmes.\n",
    "-\tOn peut les utiliser lorsqu'on a une sélection à effectuer sur un ensemble d'objets en cherchant à maximiser ou minimiser une certaine grandeur tout en respectant certaines contraintes.\n",
    "\n",
    "-\tLa sélection est effectuée en appliquant à chaque étape une règle de choix définie à l'avance qui effectue ce qui semble être le meilleur choix sur le moment en espérant arriver à la fin à la solution optimale. \n",
    "---"
   ]
  },
  {
   "cell_type": "markdown",
   "metadata": {},
   "source": [
    "__Remarque__: Nous avons déjà vu le problème du rendu de monnaie comme exemple d'algorithme glouton.  "
   ]
  },
  {
   "cell_type": "markdown",
   "metadata": {},
   "source": [
    "Nous allons maintenant voir l'exemple du problème du sac à dos."
   ]
  },
  {
   "cell_type": "markdown",
   "metadata": {},
   "source": [
    "# <font color=#3D6BBC > 2. Problème du sac à dos</font>"
   ]
  },
  {
   "cell_type": "markdown",
   "metadata": {},
   "source": [
    "<div class=\"bg-info text-success\">Le problème du sac à dos (noté aussi KP pour \"knapsack problem\" en anglais) \n",
    "est, comme le problème du rendu de monnaie, un <strong>problème d'optimisation</strong>.  <br>\n",
    "Il permet de résoudre le problème de remplissage d'un sac à dos.  <br>  \n",
    "On dispose pour cela de plusieurs objets.  <br>  \n",
    "Chaque objet dispose d'une valeur et d'un poids.   <br>\n",
    "Seulement le sac ne peut supporter plus d'un certain poids.  <br>\n",
    "Aussi, on va devoir choisir tout ou une partie des objets. <br>\n",
    "Les objets mis dans le sac à dos doivent maximiser la valeur totale dans le sac, sans toutefois dépasser le poids maximum autorisé pour le sac.</div>  "
   ]
  },
  {
   "cell_type": "markdown",
   "metadata": {},
   "source": [
    "# <font color=#3D6BBC > 3. Deux Exemples</font>"
   ]
  },
  {
   "cell_type": "markdown",
   "metadata": {},
   "source": [
    "### <font color=red > Situation n°1 :  </font>\n",
    "\n",
    "Un cambrioleur ne peut emporter que 40 kg sur son dos dans son sac. Il a le choix d'emporter certains des objets suivants :\n",
    "\n",
    "|  <center> nom <br> de l'objet</center>   | <center>Poids <br> (masse en kg)</center>  |  <center>Valeur <br>(prix de revente en euros) </center>  |  \n",
    "|--------|--------------------|-------------------------|  \n",
    "| objet A |         15          |         500              |  \n",
    "| objet B |             24      |            400           |  \n",
    "| objet C |   9                 |         350              |  \n",
    "| objet D |        25           |         750              |   \n",
    "| objet E |        5            |         400              |  \n",
    "| objet F |        12           |         800              |  \n",
    "| objet G |          2          |         1400             |\n",
    "| objet H |        18           |         550              |\n",
    "\n",
    "Il va se demander quels objets choisir pour obtenir une valeur totale maximale tout en ne dépassant pas 40 kg.\n",
    "\n",
    "\n",
    "### <font color=red > Situation n°2</font>\n",
    "\n",
    "On part en vacances avec une clef USB de 8 Go. Nous souhaitons copier sur cette clef des fichiers vidéos pour lesquels la taille n'est pas proportionnelle à la durée car les fichiers sont de formats différents et de résolutions différentes.\n",
    "\n",
    "\n",
    "|    <center>nom <br> de la vidéo </center> | <center>Poids <br>(taille en octets)</center>| <center>Valeur<br>(durée en minutes)</center> |   \n",
    "|---------|-------|-----|  \n",
    "| vidéo A |  4.5 Go |  114  |  \n",
    "| vidéo B |  630 Mo |   85  |   \n",
    "| vidéo C | 3.35 Go |   40  |  \n",
    "| vidéo D |  85 Mo  |   4   |  \n",
    "| vidéo E | 2.15 Go |   18  |   \n",
    "| vidéo F | 2.71 Go |   80  |  \n",
    "| vidéo G |  320 Mo |   5   |   \n",
    "| vidéo H |  3.7 Go |   86  |   \n",
    "| vidéo I |  2.4 Go |   64  |  \n",
    "| vidéo J |  6.4 Go |   12  |   \n",
    "\n",
    "On se demande quelles vidéos copier sur la clef pour obtenir une durée totale maximale tout en ne dépassant pas 8 Go."
   ]
  },
  {
   "cell_type": "markdown",
   "metadata": {},
   "source": [
    "<div class = \"alert alert-info\">\n",
    "\n",
    "\n",
    "## Pour chaque situation, voici les questions que l'on doit se poser :\n",
    "\n",
    "    \n",
    "    \n",
    "- Quelle est la sélection que l'on cherche à effectuer ?  \n",
    "    \n",
    "- Quelle est la contrainte ?  \n",
    "    \n",
    "- Quelle est l'optimisation recherchée ?  \n",
    "    "
   ]
  },
  {
   "cell_type": "markdown",
   "metadata": {},
   "source": [
    "##  <font color=#3D6BBC >Réponses:</font>"
   ]
  },
  {
   "cell_type": "markdown",
   "metadata": {},
   "source": [
    "### Situation n°1 :\n",
    "- On cherche à sélectionner des objets.\n",
    "- La contrainte : le poids total (ici la masse) doit être inférieur ou égal à 40 kg.\n",
    "- optimisation recherchée : la valeur (ici le prix des objets) totale des objets emportés doit être la plus grande possible."
   ]
  },
  {
   "cell_type": "markdown",
   "metadata": {},
   "source": [
    "### Situation n°2 :\n",
    "- On cherche à sélectionner des vidéos.\n",
    "- La contrainte : le poids total (ici la taille en octets) doit être inférieur ou égal à 8 Go.\n",
    "- optimisation recherchée : la valeur (ici la durée) totale des vidéos emportées doit être la plus grande possible."
   ]
  },
  {
   "cell_type": "markdown",
   "metadata": {},
   "source": [
    "<div class = \"alert alert-info\">\n",
    "\n",
    "## Autres questions: "
   ]
  },
  {
   "cell_type": "markdown",
   "metadata": {},
   "source": [
    "### Situation n°1 :  \n",
    "- Pourquoi le cambrioleur a sans doute intérêt à emporter l'objet G ?  \n",
    "\n",
    "    <font color=red >  car il n'est pas lourd mais a beaucoup de valeur</font>    \n",
    "    \n",
    "    \n",
    "- Pourquoi le cambrioleur n'a sans doute pas intérêt à emporter l'objet B ?    \n",
    "    \n",
    "    <font color=red >   car il est lourd mais il n'a pas beaucoup de valeur </font>  "
   ]
  },
  {
   "cell_type": "markdown",
   "metadata": {},
   "source": [
    "### Situation n°2 :   \n",
    "- Pourquoi a-t-on sans doute intérêt à emporter la vidéo B ?    \n",
    "      \n",
    "    <font color=red >  car elle n'est pas lourde mais a beaucoup de valeur </font>  \n",
    "    \n",
    "    \n",
    "- Pourquoi n'a-t-on sans doute pas intérêt à emporter la vidéo J ?      \n",
    "    \n",
    "    <font color=red > car elle est lourde mais n'a pas beaucoup de valeur </font>  "
   ]
  },
  {
   "cell_type": "markdown",
   "metadata": {},
   "source": [
    "# <font color=#3D6BBC > 4. Mise en oeuvre de l'algorithme glouton  </font>\n",
    "\n",
    "\n",
    "Les deux questions précédentes nous montrent une règle de choix pertinente pour mettre en place un algorithme glouton : on va choisir en premier les objets qui ont la plus grande valeur par unité de poids. Ainsi :  \n",
    " \n",
    "- __Pour la situation 1__, l'objet G a une valeur de 700 euros par unité de poids en kg (1400/2 = 700) alors que l'objet B a une valeur d'environ 16.7 euros par unité de poids en kg (400/24 = 16.666...)   \n",
    "    \n",
    "    \n",
    "- __Pour la situation 2__, la vidéo B a une valeur d'environ 134.9 minutes par unité de poids en Go (85/0.630 = 134.9...) alors que la vidéo J a une valeur de 1.875 minute par unité de poids en Go (12/6.4 = 1.875) \n",
    "\n"
   ]
  },
  {
   "cell_type": "markdown",
   "metadata": {},
   "source": [
    "<div class = \"alert bg-info text-info\"  >\n",
    "    \n",
    "### Règle à retenir :\n",
    "    \n",
    "À chaque étape prendre l'objet ayant le plus grand rapport valeur/poids parmi les objets dont le poids ne fait pas dépasser le poids total autorisé.    "
   ]
  },
  {
   "cell_type": "markdown",
   "metadata": {},
   "source": [
    "# <font color=#3D6BBC > 5. Représentation des données  </font>"
   ]
  },
  {
   "cell_type": "markdown",
   "metadata": {},
   "source": [
    "Pour résoudre ce problème, on commence par un énoncé des données.   \n",
    "Elles sont représentées sous forme de __tables__ (listes de dictionnaires).  "
   ]
  },
  {
   "cell_type": "code",
   "execution_count": null,
   "metadata": {},
   "outputs": [],
   "source": [
    "# Données pour la situation n°1\n",
    "\n",
    "table_1 = [\n",
    "    {'nom' : 'objet A', 'poids' : 15, 'valeur' : 500},\n",
    "    {'nom' : 'objet B', 'poids' : 24, 'valeur' : 400},\n",
    "    {'nom' : 'objet C', 'poids' : 9,  'valeur' : 350},\n",
    "    {'nom' : 'objet D', 'poids' : 25, 'valeur' : 750},\n",
    "    {'nom' : 'objet E', 'poids' : 5,  'valeur' : 400},\n",
    "    {'nom' : 'objet F', 'poids' : 12, 'valeur' : 800},\n",
    "    {'nom' : 'objet G', 'poids' : 2,  'valeur' : 1400},\n",
    "    {'nom' : 'objet H', 'poids' : 18, 'valeur' : 550}\n",
    "]\n",
    "\n"
   ]
  },
  {
   "cell_type": "code",
   "execution_count": null,
   "metadata": {},
   "outputs": [],
   "source": [
    "# Données pour la situation n°2\n",
    "\n",
    "table_2 = [\n",
    "    {'nom' : 'video A', 'poids' : 4.5,   'valeur' : 114},\n",
    "    {'nom' : 'video B', 'poids' : 0.63,  'valeur' : 85},\n",
    "    {'nom' : 'video C', 'poids' : 3.35,  'valeur' : 40},\n",
    "    {'nom' : 'video D', 'poids' : 0.085, 'valeur' : 4},\n",
    "    {'nom' : 'video E', 'poids' : 2.15,  'valeur' : 18},\n",
    "    {'nom' : 'video F', 'poids' : 2.71,  'valeur' : 80},\n",
    "    {'nom' : 'video G', 'poids' : 0.32,  'valeur' : 5},\n",
    "    {'nom' : 'video H', 'poids' : 3.7,   'valeur' : 86},\n",
    "    {'nom' : 'video I', 'poids' : 2.4,   'valeur' : 64},\n",
    "    {'nom' : 'video J', 'poids' : 6.4,   'valeur' : 12}\n",
    "]    \n"
   ]
  },
  {
   "cell_type": "markdown",
   "metadata": {},
   "source": [
    "On peut avoir accès à une donnée d'une des deux tables.   \n"
   ]
  },
  {
   "cell_type": "markdown",
   "metadata": {},
   "source": [
    "<u> __Exemples__</u>"
   ]
  },
  {
   "cell_type": "code",
   "execution_count": null,
   "metadata": {},
   "outputs": [],
   "source": [
    "table_1[0]['nom']"
   ]
  },
  {
   "cell_type": "code",
   "execution_count": null,
   "metadata": {},
   "outputs": [],
   "source": [
    "table_1[0]['poids']"
   ]
  },
  {
   "cell_type": "code",
   "execution_count": null,
   "metadata": {},
   "outputs": [],
   "source": [
    "table_2[3]['valeur']"
   ]
  },
  {
   "cell_type": "markdown",
   "metadata": {},
   "source": [
    "# <font color=#3D6BBC > 6. Implémentation de l'algorithme  </font>"
   ]
  },
  {
   "cell_type": "markdown",
   "metadata": {},
   "source": [
    "\n",
    "On va procéder ainsi :  \n",
    "\n",
    "1.Trier la table par ordre décroisant selon le rapport valeur/poids  \n",
    "\n",
    "2.Parcourir la table triée de haut en bas :  \n",
    "        \n",
    "- Si le poids de l'objet ne fait pas dépasser le poids total autorisé : l'emporter   \n",
    "\n",
    "        \n",
    "- Sinon : ne pas l'emporter"
   ]
  },
  {
   "cell_type": "markdown",
   "metadata": {},
   "source": [
    "## 6.1. Trier la table par ordre décroisssant selon le rapport valeur/poids "
   ]
  },
  {
   "cell_type": "markdown",
   "metadata": {},
   "source": [
    "### <center>Question 1</center>"
   ]
  },
  {
   "cell_type": "markdown",
   "metadata": {},
   "source": [
    "<div class = \"alert bg-warning text-info\"  >\n",
    "    Créer une fonction <span class= \"text-warning\"> rapport_valeur_sur_poids </span> qui prend en paramètre un dictionnaire <span class= \"text-warning\">dico_objet</span> (similaire aux dictionnaires présents dans les deux tables <span class= \"text-warning\">table_1</span> et <span class= \"text-warning\">table_2</span> ci-dessus) et renvoie le rapport (arrondi à deux chiffres après la virgule)de la valeur divisée par le poids de l'objet. <br>\n",
    "\n",
    "Aide [ici](https://www.w3schools.com/python/ref_func_round.asp) pour arrondir le résultat.  \n",
    "\n",
    "\n",
    "Quelques assertions devant être vérifiées par votre fonction sont données ci-dessous."
   ]
  },
  {
   "cell_type": "code",
   "execution_count": null,
   "metadata": {},
   "outputs": [],
   "source": [
    "def rapport_valeur_poids(dico_objet):\n",
    "    #à compléter\n",
    "    \n"
   ]
  },
  {
   "cell_type": "code",
   "execution_count": null,
   "metadata": {},
   "outputs": [],
   "source": [
    "assert( rapport_valeur_poids({'nom' : 'objet D', 'poids' : 25, 'valeur' : 750}) == 30.0 )\n",
    "assert( rapport_valeur_poids({'nom' : 'objet G', 'poids' : 2,  'valeur' : 1400}) == 700.0 )\n",
    "assert( rapport_valeur_poids({'nom' : 'video J', 'poids' : 6.4,   'valeur' : 12}) == 1.88 )"
   ]
  },
  {
   "cell_type": "markdown",
   "metadata": {},
   "source": [
    "### <center> Question 2 </center>"
   ]
  },
  {
   "cell_type": "markdown",
   "metadata": {},
   "source": [
    "<div class = \"alert bg-warning text-info\"  >\n",
    "Créer une fonction <span class= \"text-warning\">donner_poids</span>  qui prend en paramètre un dictionnaire <span class= \"text-warning\">dico_objet</span> (similaire aux dictionnaires présents dans les deux tables <span class= \"text-warning\">table_1</span>  et <span class= \"text-warning\">table_2</span>  ci-dessus) et renvoie le poids de l'objet.  \n",
    "\n",
    "\n",
    "Quelques assertions devant être vérifiées par votre fonction sont données ci-dessous."
   ]
  },
  {
   "cell_type": "code",
   "execution_count": null,
   "metadata": {},
   "outputs": [],
   "source": [
    "def donner_poids(dico_objet):\n",
    "    #à compléter\n",
    "    "
   ]
  },
  {
   "cell_type": "code",
   "execution_count": null,
   "metadata": {},
   "outputs": [],
   "source": [
    "assert( donner_poids({'nom' : 'objet D', 'poids' : 25, 'valeur' : 750}) == 25 )\n",
    "assert( donner_poids({'nom' : 'objet G', 'poids' : 2,  'valeur' : 1400}) == 2 )\n",
    "assert( donner_poids({'nom' : 'video J', 'poids' : 6.4,   'valeur' : 12}) == 6.4 )"
   ]
  },
  {
   "cell_type": "markdown",
   "metadata": {},
   "source": [
    "### <center> Question 3</center>"
   ]
  },
  {
   "cell_type": "markdown",
   "metadata": {},
   "source": [
    "<div class = \"alert bg-warning text-info\"  >\n",
    "Créer une fonction <span class= \"text-warning\">creer_table_triee</span> qui prend en paramètre une table d'objets <span class= \"text-warning\">table_objets</span> (table similaire aux deux tables <span class= \"text-warning\">table_1</span> et <span class= \"text-warning\">table_2</span> ci-dessus) et renvoie une copie triée en deux étapes de cette table :  \n",
    "\n",
    "- tri selon le poids des objets décroissant  (en utilisant la fonction sorted) \n",
    "\n",
    "\n",
    "- puis tri selon le rapport valeur/poids décroissant  \n",
    "    \n",
    "    \n",
    "On utilisera pour cela les deux fonctions clef de tri <span class= \"text-warning\">donner_poids</span> et <span class= \"text-warning\">rapport_valeur_sur_poids</span>.\n",
    "    \n",
    "\n",
    "\n",
    "**Si besoin, retourner voir le jupyter notebook sur le traitement de données en tables.**"
   ]
  },
  {
   "cell_type": "code",
   "execution_count": null,
   "metadata": {},
   "outputs": [],
   "source": [
    "def creer_table_triee(table_objets):\n",
    "    #à compléter\n",
    "    "
   ]
  },
  {
   "cell_type": "code",
   "execution_count": null,
   "metadata": {},
   "outputs": [],
   "source": [
    "assert( creer_table_triee(table_1) == \n",
    "        [{'nom': 'objet G', 'poids': 2, 'valeur': 1400},\n",
    "         {'nom': 'objet E', 'poids': 5, 'valeur': 400},\n",
    "         {'nom': 'objet F', 'poids': 12, 'valeur': 800},\n",
    "         {'nom': 'objet C', 'poids': 9, 'valeur': 350},\n",
    "         {'nom': 'objet A', 'poids': 15, 'valeur': 500},\n",
    "         {'nom': 'objet H', 'poids': 18, 'valeur': 550},\n",
    "         {'nom': 'objet D', 'poids': 25, 'valeur': 750},\n",
    "         {'nom': 'objet B', 'poids': 24, 'valeur': 400}]\n",
    "      )\n",
    "\n",
    "assert( creer_table_triee(table_2) == \n",
    "    [{'nom': 'video B', 'poids': 0.63, 'valeur': 85},\n",
    "     {'nom': 'video D', 'poids': 0.085, 'valeur': 4},\n",
    "     {'nom': 'video F', 'poids': 2.71, 'valeur': 80},\n",
    "     {'nom': 'video I', 'poids': 2.4, 'valeur': 64},\n",
    "     {'nom': 'video A', 'poids': 4.5, 'valeur': 114},\n",
    "     {'nom': 'video H', 'poids': 3.7, 'valeur': 86},\n",
    "     {'nom': 'video G', 'poids': 0.32, 'valeur': 5},\n",
    "     {'nom': 'video C', 'poids': 3.35, 'valeur': 40},\n",
    "     {'nom': 'video E', 'poids': 2.15, 'valeur': 18},\n",
    "     {'nom': 'video J', 'poids': 6.4, 'valeur': 12}]\n",
    "      )"
   ]
  },
  {
   "cell_type": "markdown",
   "metadata": {},
   "source": [
    "***"
   ]
  },
  {
   "cell_type": "markdown",
   "metadata": {},
   "source": [
    "## <center><font color=#3D6BBC > Vérification  </font></center>"
   ]
  },
  {
   "cell_type": "markdown",
   "metadata": {},
   "source": [
    "***"
   ]
  },
  {
   "cell_type": "markdown",
   "metadata": {},
   "source": [
    "### <center> Question 4 </center>"
   ]
  },
  {
   "cell_type": "markdown",
   "metadata": {},
   "source": [
    "<div class = \"alert bg-warning text-info\"  >\n",
    "    \n",
    "- Ajouter à chacune des tables le champ <span class= \"text-warning\"> 'rapport' </span> pour chaque enregistrement, correspondant au rapport valeur/poids. \n",
    "    \n",
    "- Afficher les deux tables pour vérifier qu'elles sont bien triées par ordre de rapport décroissant."
   ]
  },
  {
   "cell_type": "code",
   "execution_count": null,
   "metadata": {},
   "outputs": [],
   "source": [
    "# à compléter\n"
   ]
  },
  {
   "cell_type": "markdown",
   "metadata": {},
   "source": [
    "## 6.2. Parcourir  la table triée et sélectionner les objets"
   ]
  },
  {
   "cell_type": "markdown",
   "metadata": {},
   "source": [
    "### <center> Rappels des 2 situations:</center>\n",
    "\n",
    "### <font color=red > Situation n°1 :  </font>\n",
    "\n",
    "Un cambrioleur ne peut emporter que 40 kg sur son dos dans son sac. \n",
    "Il va se demander quels objets choisir pour obtenir une valeur totale maximale tout en ne dépassant pas 40 kg.\n",
    "\n",
    "\n",
    "### <font color=red > Situation n°2</font>\n",
    "\n",
    "On part en vacances avec une clef USB de 8 Go. Nous souhaitons copier sur cette clef des fichiers vidéos pour lesquels la taille n'est pas proportionnelle à la durée car les fichiers sont de formats différents et de résolutions différentes.\n",
    "On se demande quelles vidéos copier sur la clef pour obtenir une durée totale maximale tout en ne dépassant pas 8 Go."
   ]
  },
  {
   "cell_type": "markdown",
   "metadata": {},
   "source": [
    "### <center>Question 5 </center>\n"
   ]
  },
  {
   "cell_type": "markdown",
   "metadata": {},
   "source": [
    "<div class = \"alert bg-warning text-info\"  >\n",
    " Compléter la fonction <span class= \"text-warning\">selectionner</span> qui prend en paramètre une table <span class= \"text-warning\">table_objets</span> (table similaire aux deux tables <span class= \"text-warning\">table_1</span> et <span class= \"text-warning\">table_2</span> ci-dessus) ainsi qu'un poids maximal <span class= \"text-warning\">poids_max</span> et retourne dans une table <span class= \"text-warning\">table_selection</span> la sélection d'objets obtenue selon l'algorithme glouton.  \n",
    "    \n",
    " \n",
    "On rappelle que pour ajouter un élément <span class= \"text-warning\">elt</span> dans une liste <span class= \"text-warning\">L</span> on peut utiliser l'instruction <span class= \"text-warning\">L.append(elt)</span>.       "
   ]
  },
  {
   "cell_type": "code",
   "execution_count": null,
   "metadata": {},
   "outputs": [],
   "source": [
    "def selectionner( table_objets, poids_max):\n",
    "    # à compléter\n",
    "   "
   ]
  },
  {
   "cell_type": "code",
   "execution_count": null,
   "metadata": {},
   "outputs": [],
   "source": [
    "assert( selectionner( table_1, 40) == \n",
    "    [{'nom': 'objet G', 'poids': 2, 'valeur': 1400, 'rapport': 700.0},\n",
    "     {'nom': 'objet E', 'poids': 5, 'valeur': 400,'rapport': 80.0},\n",
    "     {'nom': 'objet F', 'poids': 12, 'valeur': 800,'rapport': 66.67},\n",
    "     {'nom': 'objet C', 'poids': 9, 'valeur': 350,'rapport': 38.89}]\n",
    ")\n",
    "\n",
    "\n",
    "assert( selectionner( table_2, 8) ==\n",
    "    [{'nom': 'video B', 'poids': 0.63, 'valeur': 85,'rapport': 134.92},\n",
    "     {'nom': 'video D', 'poids': 0.085, 'valeur': 4,'rapport': 47.06},\n",
    "     {'nom': 'video F', 'poids': 2.71, 'valeur': 80,'rapport': 29.52},\n",
    "     {'nom': 'video I', 'poids': 2.4, 'valeur': 64,'rapport': 26.67},\n",
    "     {'nom': 'video G', 'poids': 0.32, 'valeur': 5,'rapport': 15.62}]\n",
    ")"
   ]
  },
  {
   "cell_type": "markdown",
   "metadata": {},
   "source": [
    "### <center>Question 6 </center>"
   ]
  },
  {
   "cell_type": "markdown",
   "metadata": {},
   "source": [
    "<div class = \"alert alert-info\">  \n",
    "\n",
    "Les deux solutions fournies ne sont pas les meilleures possibles. Essayer de trouver des solutions meilleures que celles fournies par l'algorithme."
   ]
  },
  {
   "cell_type": "markdown",
   "metadata": {},
   "source": [
    "Réponse:\n",
    "\n"
   ]
  },
  {
   "cell_type": "code",
   "execution_count": null,
   "metadata": {},
   "outputs": [],
   "source": []
  }
 ],
 "metadata": {
  "kernelspec": {
   "display_name": "Python 3",
   "language": "python",
   "name": "python3"
  },
  "language_info": {
   "codemirror_mode": {
    "name": "ipython",
    "version": 3
   },
   "file_extension": ".py",
   "mimetype": "text/x-python",
   "name": "python",
   "nbconvert_exporter": "python",
   "pygments_lexer": "ipython3",
   "version": "3.7.1"
  }
 },
 "nbformat": 4,
 "nbformat_minor": 2
}
