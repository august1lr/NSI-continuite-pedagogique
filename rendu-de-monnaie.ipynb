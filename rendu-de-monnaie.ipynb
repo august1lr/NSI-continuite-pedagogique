{
 "cells": [
  {
   "cell_type": "markdown",
   "metadata": {},
   "source": [
    "# <center><font color =\"red\">Problème    </font></center>\n",
    "# <center><font color =\"red\">du rendu de monnaie</font></center>"
   ]
  },
  {
   "cell_type": "markdown",
   "metadata": {},
   "source": [
    "__1ère étape__ : lire le document rendu-de-monnaie.pdf se trouvant dans le cloud.\n"
   ]
  },
  {
   "cell_type": "markdown",
   "metadata": {},
   "source": [
    "## <font color=#3D6BBC > Question 1:</font>\n",
    "    "
   ]
  },
  {
   "cell_type": "markdown",
   "metadata": {},
   "source": [
    "Programmer une fonction <font color=red>plus_grande_piece</font> qui prend en paramètres :\n",
    "* un tableau d'entiers strictement positifs appelé __liste_pieces__ qui contient au moins la valeur 1\n",
    "* un nombre entier appelé __somme__ strictement supérieur à 0    \n",
    "\n",
    "\n",
    "et renvoie la plus grande valeur appelée __piece__ présente dans __liste_pieces__ qui est inférieure ou égale à somme."
   ]
  },
  {
   "cell_type": "markdown",
   "metadata": {},
   "source": [
    "### Astuce : \n",
    "On commence par la pièce la plus grande de la liste, donc par la fin de la liste. Il faut donc commencer par l'indice de fin et diminuer de 1 à chaque tour."
   ]
  },
  {
   "cell_type": "markdown",
   "metadata": {},
   "source": [
    "### Assertions\n",
    "Pour tester votre fonction, vous utiliserez les __assertions__ données ci-dessous qui permettent de vérifier si votre fonction est bonne ou pas.   \n",
    "Si vous n'avez pas de message d'erreurs, c'est que votre programme est bon.\n"
   ]
  },
  {
   "cell_type": "code",
   "execution_count": 9,
   "metadata": {},
   "outputs": [],
   "source": [
    "def plus_grande_piece(liste_pieces,somme):\n",
    "    i= len(liste_pieces)-1\n",
    "    if somme ==1:\n",
    "        piece=1\n",
    "    else:\n",
    "        while liste_pieces[i]> somme:\n",
    "            i-=1\n",
    "        piece=liste_pieces[i]\n",
    "    return piece"
   ]
  },
  {
   "cell_type": "code",
   "execution_count": 10,
   "metadata": {},
   "outputs": [],
   "source": [
    "systeme_monnaie_euro = [1, 2, 5, 10, 20, 50, 100, 200, 500] # contient les valeurs des pièces de monnaie de la zone euro\n",
    "systeme_monnaie_non_euro = [1, 3, 6, 12, 24, 30] #contient les valeurs des pièces de monnaies d'une zone non euro\n",
    "\n",
    "assert(plus_grande_piece(systeme_monnaie_euro, 23) == 20)\n",
    "assert(plus_grande_piece(systeme_monnaie_euro, 259) == 200)\n",
    "assert(plus_grande_piece(systeme_monnaie_euro, 9) == 5)\n",
    "assert(plus_grande_piece(systeme_monnaie_euro, 1) == 1)\n",
    "\n",
    "assert(plus_grande_piece(systeme_monnaie_non_euro , 23) == 12)\n",
    "assert(plus_grande_piece(systeme_monnaie_non_euro , 259) == 30)\n",
    "assert(plus_grande_piece(systeme_monnaie_non_euro , 9) == 6)\n",
    "assert(plus_grande_piece(systeme_monnaie_non_euro , 1) == 1)"
   ]
  },
  {
   "cell_type": "markdown",
   "metadata": {},
   "source": [
    "## <font color=#3D6BBC > Question 2:</font>"
   ]
  },
  {
   "cell_type": "markdown",
   "metadata": {},
   "source": [
    "En utilisant la fonction précédente plus_grande_piece, compléter le code de la fonction <font color=red> rendre_monnaie </font> qui prend en paramètres :   \n",
    "* un tableau d'entiers strictement positifs __systeme_monnaie__ qui contient au moins la valeur de 1\n",
    "* un nombre entier __somme_a_rendre__ strictement supérieur à 0.\n",
    "\n",
    "et renvoie la liste __liste_pieces_rendues__ obtenue par l'algorithme du rendu de monnaie sur somme_a_rendre."
   ]
  },
  {
   "cell_type": "markdown",
   "metadata": {},
   "source": [
    "*Quelques __assertions__ sont données pour vérifier votre fonction.*"
   ]
  },
  {
   "cell_type": "code",
   "execution_count": 13,
   "metadata": {},
   "outputs": [],
   "source": [
    "def rendre_monnaie(systeme_monnaie, somme_a_rendre):\n",
    "    liste_pieces_rendues =[] \n",
    "    while somme_a_rendre >0:\n",
    "        piece = plus_grande_piece(systeme_monnaie,somme_a_rendre)\n",
    "        liste_pieces_rendues.append(piece)\n",
    "        somme_a_rendre -=piece\n",
    "    return liste_pieces_rendues \n",
    "    "
   ]
  },
  {
   "cell_type": "code",
   "execution_count": 12,
   "metadata": {},
   "outputs": [],
   "source": [
    "systeme_monnaie_euro = [1, 2, 5, 10, 20, 50, 100, 200, 500]\n",
    "systeme_monnaie_non_euro = [1, 3, 6, 12, 24, 30]\n",
    "\n",
    "assert(rendre_monnaie(systeme_monnaie_euro, 23) == [20, 2, 1])\n",
    "assert(rendre_monnaie(systeme_monnaie_euro, 259) == [200, 50, 5, 2, 2])\n",
    "assert(rendre_monnaie(systeme_monnaie_euro, 9) == [5, 2, 2])\n",
    "assert(rendre_monnaie(systeme_monnaie_euro, 1) == [1])\n",
    "assert(rendre_monnaie(systeme_monnaie_non_euro, 23) == [12, 6, 3, 1, 1])\n",
    "assert(rendre_monnaie(systeme_monnaie_non_euro, 259) == [30, 30, 30, 30, 30, 30,30, 30, 12, 6, 1])\n",
    "assert(rendre_monnaie(systeme_monnaie_non_euro, 9) == [6, 3])\n",
    "assert(rendre_monnaie(systeme_monnaie_non_euro, 1) == [1])"
   ]
  },
  {
   "cell_type": "markdown",
   "metadata": {},
   "source": [
    "## <font color=#3D6BBC > Question 3:</font>"
   ]
  },
  {
   "cell_type": "code",
   "execution_count": null,
   "metadata": {},
   "outputs": [],
   "source": [
    "Avec le système systeme_monnaie_non-euro, donner la liste_pieces_rendues renvoyée par l’algorithme\n",
    "du rendu de monnaie pour chacune des somme_a_rendre ci-contre : 48 , 49 , 50, 51 , 52, 53, et enfin 54."
   ]
  },
  {
   "cell_type": "code",
   "execution_count": 15,
   "metadata": {},
   "outputs": [
    {
     "name": "stdout",
     "output_type": "stream",
     "text": [
      "[30, 12, 6]\n",
      "[30, 12, 6, 1]\n",
      "[30, 12, 6, 1, 1]\n",
      "[30, 12, 6, 3]\n",
      "[30, 12, 6, 3, 1]\n",
      "[30, 12, 6, 3, 1, 1]\n",
      "[30, 24]\n"
     ]
    }
   ],
   "source": [
    "for i in range(48,55):\n",
    "    print (rendre_monnaie(systeme_monnaie_non_euro, i))\n",
    "    "
   ]
  },
  {
   "cell_type": "markdown",
   "metadata": {},
   "source": [
    "## <font color=#3D6BBC > Question 4:</font>"
   ]
  },
  {
   "cell_type": "markdown",
   "metadata": {},
   "source": [
    "Montrer que dans les six premiers cas, il existe une meilleure solution que celle renvoyée par l'algorithme (qui utilise une pièce en moins)."
   ]
  },
  {
   "cell_type": "markdown",
   "metadata": {},
   "source": [
    "<div class=\"bg-info \">\n",
    "    <strong><font size='4' color=#3D6BBC> A  retenir :</font>  </strong>\n",
    "<ul>\n",
    "    <li>Avec un systeme de <u> monnaie euro</u>, la liste des pièces rendues est toujours la meilleure solution <strong><font color =blue size='3'>  (la solution optimale) </font></strong>.  On dit que le système est <strong><font color =red size='4'>canonique.</font></strong>\n",
    "    </li>\n",
    "    <li> Avec le systeme de <u> monnaie non euro</u> choisi dans cet exemple, la solution obtenue <strong><font color =blue size='3'>  n'est pas optimale. </font></strong> On dit que le système  <strong><font color =red size='4'>n'est pas canonique.</font></strong>\n",
    "</ul>\n",
    "</div>"
   ]
  },
  {
   "cell_type": "code",
   "execution_count": null,
   "metadata": {},
   "outputs": [],
   "source": []
  }
 ],
 "metadata": {
  "kernelspec": {
   "display_name": "Python 3",
   "language": "python",
   "name": "python3"
  },
  "language_info": {
   "codemirror_mode": {
    "name": "ipython",
    "version": 3
   },
   "file_extension": ".py",
   "mimetype": "text/x-python",
   "name": "python",
   "nbconvert_exporter": "python",
   "pygments_lexer": "ipython3",
   "version": "3.7.1"
  }
 },
 "nbformat": 4,
 "nbformat_minor": 2
}
