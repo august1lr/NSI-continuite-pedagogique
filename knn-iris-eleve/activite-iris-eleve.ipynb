{
 "cells": [
  {
   "cell_type": "markdown",
   "metadata": {},
   "source": [
    "# <center><font color =\"red\">Activité  </font></center>\n",
    "# <center><font color =\"red\">Iris</font></center>"
   ]
  },
  {
   "cell_type": "markdown",
   "metadata": {},
   "source": [
    "# <font color=#3D6BBC >1.Présentation de la situation: </font>"
   ]
  },
  {
   "cell_type": "markdown",
   "metadata": {},
   "source": [
    "Le jeu de données auquel nous allons nous intéresser est un jeu de données célèbre.   \n",
    "Il a été créé et utilisé par Ronald Aylmer Fisher en 1936 (biologiste et statisticien).  \n",
    "Ce botaniste spécialiste des iris a cherché un moyen de différencier trois espèces de sa plante favorite : setosa, virginica et versicolor. \n",
    "\n",
    "| Ronald Aylmer Fisher | Iris setosa | Iris virginica | Iris versicolor |\n",
    "|:--------------------:|:-----------:|:--------------:|:---------------:|\n",
    "| ![portrait](./images/portrait2.png) | ![portrait](./images/iris_setosa.jpg) | ![portrait](./images/iris_virginica.jpg) | ![portrait](./images/iris_versicolor.jpg) |\n",
    "\n",
    "Ce jeu de données est composé de 50 individus pour chacune des trois espèces (setosa, versicolor, virginica) soit 150 individus en tout.  \n",
    "\n",
    "Pour chaque individu, il a mesuré la longueur et la largeur moyenne des trois pétales de la fleur.\n",
    "\n",
    "Pour chacun de ces individus on dispose des données suivantes :\n",
    "```\n",
    "- id              : numéro d'échantillon (identifiant)   \n",
    "\n",
    "- longueur_petale : longueur des pétales  \n",
    "\n",
    "- largeur_petale  : largeur des pétales  \n",
    "\n",
    "- espece          : 'Iris setosa', 'Irid virginica' ou 'Iris versicolor'\n",
    "```\n",
    "\n",
    "Voici ce qu'il obtient lorsqu'il construit le graphe reliant la longueur(abscisse) et la largeur (ordonnée):"
   ]
  },
  {
   "cell_type": "markdown",
   "metadata": {},
   "source": [
    "![center](iris-image1.png)"
   ]
  },
  {
   "cell_type": "markdown",
   "metadata": {},
   "source": [
    "<div class=\"bg-info text-success\">Vous vous souvenez tout à coup que votre voisine - une personne âgée - possède des iris dans son jardin. Ni une ni deux : armé de votre règle graduée vous mesurez la largeur et la longueur des trois pétales d’une fleur de deux de ses spécimen d’iris.<br>\n",
    "Après avoir positionné vos valeurs sur le graphe vous obtenez les situations suivantes :  </div>"
   ]
  },
  {
   "cell_type": "markdown",
   "metadata": {},
   "source": [
    "![center](iris-image2.png)"
   ]
  },
  {
   "cell_type": "markdown",
   "metadata": {},
   "source": [
    "Les caractéristiques de ces deux iris sont:"
   ]
  },
  {
   "cell_type": "markdown",
   "metadata": {},
   "source": [
    "![center](iris-image3.png)"
   ]
  },
  {
   "cell_type": "markdown",
   "metadata": {},
   "source": [
    "<font color=red> <strong>Pour identifier les espèces auxquelles appartiennent les iris de votre voisine, vous envisagez d'utiliser l'algorithme des k plus proches voisins.</strong> </font>"
   ]
  },
  {
   "cell_type": "markdown",
   "metadata": {},
   "source": [
    "# <font color=#3D6BBC >2.Import des données: </font>"
   ]
  },
  {
   "cell_type": "markdown",
   "metadata": {},
   "source": [
    "### <center> Question 1</center>"
   ]
  },
  {
   "cell_type": "markdown",
   "metadata": {},
   "source": [
    "<div class = \"alert bg-warning text-info\"  >Ecrire le code (dans le cellule ci-dessous)permettant de créér une table <span class= \"text-warning\">table_iris</span> à partir du fichier <span class= \"text-warning\">iris.csv.</span> (se trouvant dans le même dossier que ce notebook).</div>"
   ]
  },
  {
   "cell_type": "code",
   "execution_count": 1,
   "metadata": {},
   "outputs": [],
   "source": [
    "# à compléter\n",
    "\n"
   ]
  },
  {
   "cell_type": "markdown",
   "metadata": {},
   "source": [
    "Vérifier que cela donne bien une table (tableau de dictionnaires et que les champs sont bien ceux donnés ci-dessus) Vous pouvez, par exemple, l'afficher."
   ]
  },
  {
   "cell_type": "code",
   "execution_count": 2,
   "metadata": {},
   "outputs": [
    {
     "name": "stdout",
     "output_type": "stream",
     "text": [
      "[{'id': '1', 'longueur_petale': '1.4', 'largeur_petale': '0.2', 'espece': 'iris setosa'}\n",
      " {'id': '2', 'longueur_petale': '1.4', 'largeur_petale': '0.2', 'espece': 'iris setosa'}\n",
      " {'id': '3', 'longueur_petale': '1.3', 'largeur_petale': '0.2', 'espece': 'iris setosa'}\n",
      " {'id': '4', 'longueur_petale': '1.5', 'largeur_petale': '0.2', 'espece': 'iris setosa'}\n",
      " {'id': '5', 'longueur_petale': '1.4', 'largeur_petale': '0.2', 'espece': 'iris setosa'}\n",
      " {'id': '6', 'longueur_petale': '1.7', 'largeur_petale': '0.4', 'espece': 'iris setosa'}\n",
      " {'id': '7', 'longueur_petale': '1.4', 'largeur_petale': '0.3', 'espece': 'iris setosa'}\n",
      " {'id': '8', 'longueur_petale': '1.5', 'largeur_petale': '0.2', 'espece': 'iris setosa'}\n",
      " {'id': '9', 'longueur_petale': '1.4', 'largeur_petale': '0.2', 'espece': 'iris setosa'}\n",
      " {'id': '10', 'longueur_petale': '1.5', 'largeur_petale': '0.1', 'espece': 'iris setosa'}\n",
      " {'id': '11', 'longueur_petale': '1.5', 'largeur_petale': '0.2', 'espece': 'iris setosa'}\n",
      " {'id': '12', 'longueur_petale': '1.6', 'largeur_petale': '0.2', 'espece': 'iris setosa'}\n",
      " {'id': '13', 'longueur_petale': '1.4', 'largeur_petale': '0.1', 'espece': 'iris setosa'}\n",
      " {'id': '14', 'longueur_petale': '1.1', 'largeur_petale': '0.1', 'espece': 'iris setosa'}\n",
      " {'id': '15', 'longueur_petale': '1.2', 'largeur_petale': '0.2', 'espece': 'iris setosa'}\n",
      " {'id': '16', 'longueur_petale': '1.5', 'largeur_petale': '0.4', 'espece': 'iris setosa'}\n",
      " {'id': '17', 'longueur_petale': '1.3', 'largeur_petale': '0.4', 'espece': 'iris setosa'}\n",
      " {'id': '18', 'longueur_petale': '1.4', 'largeur_petale': '0.3', 'espece': 'iris setosa'}\n",
      " {'id': '19', 'longueur_petale': '1.7', 'largeur_petale': '0.3', 'espece': 'iris setosa'}\n",
      " {'id': '20', 'longueur_petale': '1.5', 'largeur_petale': '0.3', 'espece': 'iris setosa'}\n",
      " {'id': '21', 'longueur_petale': '1.7', 'largeur_petale': '0.2', 'espece': 'iris setosa'}\n",
      " {'id': '22', 'longueur_petale': '1.5', 'largeur_petale': '0.4', 'espece': 'iris setosa'}\n",
      " {'id': '23', 'longueur_petale': '1.0', 'largeur_petale': '0.2', 'espece': 'iris setosa'}\n",
      " {'id': '24', 'longueur_petale': '1.7', 'largeur_petale': '0.5', 'espece': 'iris setosa'}\n",
      " {'id': '25', 'longueur_petale': '1.9', 'largeur_petale': '0.2', 'espece': 'iris setosa'}\n",
      " {'id': '26', 'longueur_petale': '1.6', 'largeur_petale': '0.2', 'espece': 'iris setosa'}\n",
      " {'id': '27', 'longueur_petale': '1.6', 'largeur_petale': '0.4', 'espece': 'iris setosa'}\n",
      " {'id': '28', 'longueur_petale': '1.5', 'largeur_petale': '0.2', 'espece': 'iris setosa'}\n",
      " {'id': '29', 'longueur_petale': '1.4', 'largeur_petale': '0.2', 'espece': 'iris setosa'}\n",
      " {'id': '30', 'longueur_petale': '1.6', 'largeur_petale': '0.2', 'espece': 'iris setosa'}\n",
      " {'id': '31', 'longueur_petale': '1.6', 'largeur_petale': '0.2', 'espece': 'iris setosa'}\n",
      " {'id': '32', 'longueur_petale': '1.5', 'largeur_petale': '0.4', 'espece': 'iris setosa'}\n",
      " {'id': '33', 'longueur_petale': '1.5', 'largeur_petale': '0.1', 'espece': 'iris setosa'}\n",
      " {'id': '34', 'longueur_petale': '1.4', 'largeur_petale': '0.2', 'espece': 'iris setosa'}\n",
      " {'id': '35', 'longueur_petale': '1.5', 'largeur_petale': '0.1', 'espece': 'iris setosa'}\n",
      " {'id': '36', 'longueur_petale': '1.2', 'largeur_petale': '0.2', 'espece': 'iris setosa'}\n",
      " {'id': '37', 'longueur_petale': '1.3', 'largeur_petale': '0.2', 'espece': 'iris setosa'}\n",
      " {'id': '38', 'longueur_petale': '1.5', 'largeur_petale': '0.1', 'espece': 'iris setosa'}\n",
      " {'id': '39', 'longueur_petale': '1.3', 'largeur_petale': '0.2', 'espece': 'iris setosa'}\n",
      " {'id': '40', 'longueur_petale': '1.5', 'largeur_petale': '0.2', 'espece': 'iris setosa'}\n",
      " {'id': '41', 'longueur_petale': '1.3', 'largeur_petale': '0.3', 'espece': 'iris setosa'}\n",
      " {'id': '42', 'longueur_petale': '1.3', 'largeur_petale': '0.3', 'espece': 'iris setosa'}\n",
      " {'id': '43', 'longueur_petale': '1.3', 'largeur_petale': '0.2', 'espece': 'iris setosa'}\n",
      " {'id': '44', 'longueur_petale': '1.6', 'largeur_petale': '0.6', 'espece': 'iris setosa'}\n",
      " {'id': '45', 'longueur_petale': '1.9', 'largeur_petale': '0.4', 'espece': 'iris setosa'}\n",
      " {'id': '46', 'longueur_petale': '1.4', 'largeur_petale': '0.3', 'espece': 'iris setosa'}\n",
      " {'id': '47', 'longueur_petale': '1.6', 'largeur_petale': '0.2', 'espece': 'iris setosa'}\n",
      " {'id': '48', 'longueur_petale': '1.4', 'largeur_petale': '0.2', 'espece': 'iris setosa'}\n",
      " {'id': '49', 'longueur_petale': '1.5', 'largeur_petale': '0.2', 'espece': 'iris setosa'}\n",
      " {'id': '50', 'longueur_petale': '1.4', 'largeur_petale': '0.2', 'espece': 'iris setosa'}\n",
      " {'id': '51', 'longueur_petale': '4.7', 'largeur_petale': '1.4', 'espece': 'iris virginica'}\n",
      " {'id': '52', 'longueur_petale': '4.5', 'largeur_petale': '1.5', 'espece': 'iris virginica'}\n",
      " {'id': '53', 'longueur_petale': '4.9', 'largeur_petale': '1.5', 'espece': 'iris virginica'}\n",
      " {'id': '54', 'longueur_petale': '4.0', 'largeur_petale': '1.3', 'espece': 'iris virginica'}\n",
      " {'id': '55', 'longueur_petale': '4.6', 'largeur_petale': '1.5', 'espece': 'iris virginica'}\n",
      " {'id': '56', 'longueur_petale': '4.5', 'largeur_petale': '1.3', 'espece': 'iris virginica'}\n",
      " {'id': '57', 'longueur_petale': '4.7', 'largeur_petale': '1.6', 'espece': 'iris virginica'}\n",
      " {'id': '58', 'longueur_petale': '3.3', 'largeur_petale': '1.0', 'espece': 'iris virginica'}\n",
      " {'id': '59', 'longueur_petale': '4.6', 'largeur_petale': '1.3', 'espece': 'iris virginica'}\n",
      " {'id': '60', 'longueur_petale': '3.9', 'largeur_petale': '1.4', 'espece': 'iris virginica'}\n",
      " {'id': '61', 'longueur_petale': '3.5', 'largeur_petale': '1.0', 'espece': 'iris virginica'}\n",
      " {'id': '62', 'longueur_petale': '4.2', 'largeur_petale': '1.5', 'espece': 'iris virginica'}\n",
      " {'id': '63', 'longueur_petale': '4.0', 'largeur_petale': '1.0', 'espece': 'iris virginica'}\n",
      " {'id': '64', 'longueur_petale': '4.7', 'largeur_petale': '1.4', 'espece': 'iris virginica'}\n",
      " {'id': '65', 'longueur_petale': '3.6', 'largeur_petale': '1.3', 'espece': 'iris virginica'}\n",
      " {'id': '66', 'longueur_petale': '4.4', 'largeur_petale': '1.4', 'espece': 'iris virginica'}\n",
      " {'id': '67', 'longueur_petale': '4.5', 'largeur_petale': '1.5', 'espece': 'iris virginica'}\n",
      " {'id': '68', 'longueur_petale': '4.1', 'largeur_petale': '1.0', 'espece': 'iris virginica'}\n",
      " {'id': '69', 'longueur_petale': '4.5', 'largeur_petale': '1.5', 'espece': 'iris virginica'}\n",
      " {'id': '70', 'longueur_petale': '3.9', 'largeur_petale': '1.1', 'espece': 'iris virginica'}\n",
      " {'id': '71', 'longueur_petale': '4.8', 'largeur_petale': '1.8', 'espece': 'iris virginica'}\n",
      " {'id': '72', 'longueur_petale': '4.0', 'largeur_petale': '1.3', 'espece': 'iris virginica'}\n",
      " {'id': '73', 'longueur_petale': '4.9', 'largeur_petale': '1.5', 'espece': 'iris virginica'}\n",
      " {'id': '74', 'longueur_petale': '4.7', 'largeur_petale': '1.2', 'espece': 'iris virginica'}\n",
      " {'id': '75', 'longueur_petale': '4.3', 'largeur_petale': '1.3', 'espece': 'iris virginica'}\n",
      " {'id': '76', 'longueur_petale': '4.4', 'largeur_petale': '1.4', 'espece': 'iris virginica'}\n",
      " {'id': '77', 'longueur_petale': '4.8', 'largeur_petale': '1.4', 'espece': 'iris virginica'}\n",
      " {'id': '78', 'longueur_petale': '5.0', 'largeur_petale': '1.7', 'espece': 'iris virginica'}\n",
      " {'id': '79', 'longueur_petale': '4.5', 'largeur_petale': '1.5', 'espece': 'iris virginica'}\n",
      " {'id': '80', 'longueur_petale': '3.5', 'largeur_petale': '1.0', 'espece': 'iris virginica'}\n",
      " {'id': '81', 'longueur_petale': '3.8', 'largeur_petale': '1.1', 'espece': 'iris virginica'}\n",
      " {'id': '82', 'longueur_petale': '3.7', 'largeur_petale': '1.0', 'espece': 'iris virginica'}\n",
      " {'id': '83', 'longueur_petale': '3.9', 'largeur_petale': '1.2', 'espece': 'iris virginica'}\n",
      " {'id': '84', 'longueur_petale': '5.1', 'largeur_petale': '1.6', 'espece': 'iris virginica'}\n",
      " {'id': '85', 'longueur_petale': '4.5', 'largeur_petale': '1.5', 'espece': 'iris virginica'}\n",
      " {'id': '86', 'longueur_petale': '4.5', 'largeur_petale': '1.6', 'espece': 'iris virginica'}\n",
      " {'id': '87', 'longueur_petale': '4.7', 'largeur_petale': '1.5', 'espece': 'iris virginica'}\n",
      " {'id': '88', 'longueur_petale': '4.4', 'largeur_petale': '1.3', 'espece': 'iris virginica'}\n",
      " {'id': '89', 'longueur_petale': '4.1', 'largeur_petale': '1.3', 'espece': 'iris virginica'}\n",
      " {'id': '90', 'longueur_petale': '4.0', 'largeur_petale': '1.3', 'espece': 'iris virginica'}\n",
      " {'id': '91', 'longueur_petale': '4.4', 'largeur_petale': '1.2', 'espece': 'iris virginica'}\n",
      " {'id': '92', 'longueur_petale': '4.6', 'largeur_petale': '1.4', 'espece': 'iris virginica'}\n",
      " {'id': '93', 'longueur_petale': '4.0', 'largeur_petale': '1.2', 'espece': 'iris virginica'}\n",
      " {'id': '94', 'longueur_petale': '3.3', 'largeur_petale': '1.0', 'espece': 'iris virginica'}\n",
      " {'id': '95', 'longueur_petale': '4.2', 'largeur_petale': '1.3', 'espece': 'iris virginica'}\n",
      " {'id': '96', 'longueur_petale': '4.2', 'largeur_petale': '1.2', 'espece': 'iris virginica'}\n",
      " {'id': '97', 'longueur_petale': '4.2', 'largeur_petale': '1.3', 'espece': 'iris virginica'}\n",
      " {'id': '98', 'longueur_petale': '4.3', 'largeur_petale': '1.3', 'espece': 'iris virginica'}\n",
      " {'id': '99', 'longueur_petale': '3.0', 'largeur_petale': '1.1', 'espece': 'iris virginica'}\n",
      " {'id': '100', 'longueur_petale': '4.1', 'largeur_petale': '1.3', 'espece': 'iris virginica'}\n",
      " {'id': '101', 'longueur_petale': '6.0', 'largeur_petale': '2.5', 'espece': 'iris versicolor'}\n",
      " {'id': '102', 'longueur_petale': '5.1', 'largeur_petale': '1.9', 'espece': 'iris versicolor'}\n",
      " {'id': '103', 'longueur_petale': '5.9', 'largeur_petale': '2.1', 'espece': 'iris versicolor'}\n",
      " {'id': '104', 'longueur_petale': '5.6', 'largeur_petale': '1.8', 'espece': 'iris versicolor'}\n",
      " {'id': '105', 'longueur_petale': '5.8', 'largeur_petale': '2.2', 'espece': 'iris versicolor'}\n",
      " {'id': '106', 'longueur_petale': '6.6', 'largeur_petale': '2.1', 'espece': 'iris versicolor'}\n",
      " {'id': '107', 'longueur_petale': '4.5', 'largeur_petale': '1.7', 'espece': 'iris versicolor'}\n",
      " {'id': '108', 'longueur_petale': '6.3', 'largeur_petale': '1.8', 'espece': 'iris versicolor'}\n",
      " {'id': '109', 'longueur_petale': '5.8', 'largeur_petale': '1.8', 'espece': 'iris versicolor'}\n",
      " {'id': '110', 'longueur_petale': '6.1', 'largeur_petale': '2.5', 'espece': 'iris versicolor'}\n",
      " {'id': '111', 'longueur_petale': '5.1', 'largeur_petale': '2.0', 'espece': 'iris versicolor'}\n",
      " {'id': '112', 'longueur_petale': '5.3', 'largeur_petale': '1.9', 'espece': 'iris versicolor'}\n",
      " {'id': '113', 'longueur_petale': '5.5', 'largeur_petale': '2.1', 'espece': 'iris versicolor'}\n",
      " {'id': '114', 'longueur_petale': '5.0', 'largeur_petale': '2.0', 'espece': 'iris versicolor'}\n",
      " {'id': '115', 'longueur_petale': '5.1', 'largeur_petale': '2.4', 'espece': 'iris versicolor'}\n",
      " {'id': '116', 'longueur_petale': '5.3', 'largeur_petale': '2.3', 'espece': 'iris versicolor'}\n",
      " {'id': '117', 'longueur_petale': '5.5', 'largeur_petale': '1.8', 'espece': 'iris versicolor'}\n",
      " {'id': '118', 'longueur_petale': '6.7', 'largeur_petale': '2.2', 'espece': 'iris versicolor'}\n",
      " {'id': '119', 'longueur_petale': '6.9', 'largeur_petale': '2.3', 'espece': 'iris versicolor'}\n",
      " {'id': '120', 'longueur_petale': '5.0', 'largeur_petale': '1.5', 'espece': 'iris versicolor'}\n",
      " {'id': '121', 'longueur_petale': '5.7', 'largeur_petale': '2.3', 'espece': 'iris versicolor'}\n",
      " {'id': '122', 'longueur_petale': '4.9', 'largeur_petale': '2.0', 'espece': 'iris versicolor'}\n",
      " {'id': '123', 'longueur_petale': '6.7', 'largeur_petale': '2.0', 'espece': 'iris versicolor'}\n",
      " {'id': '124', 'longueur_petale': '4.9', 'largeur_petale': '1.8', 'espece': 'iris versicolor'}\n",
      " {'id': '125', 'longueur_petale': '5.7', 'largeur_petale': '2.1', 'espece': 'iris versicolor'}\n",
      " {'id': '126', 'longueur_petale': '6.0', 'largeur_petale': '1.8', 'espece': 'iris versicolor'}\n",
      " {'id': '127', 'longueur_petale': '4.8', 'largeur_petale': '1.8', 'espece': 'iris versicolor'}\n",
      " {'id': '128', 'longueur_petale': '4.9', 'largeur_petale': '1.8', 'espece': 'iris versicolor'}\n",
      " {'id': '129', 'longueur_petale': '5.6', 'largeur_petale': '2.1', 'espece': 'iris versicolor'}\n",
      " {'id': '130', 'longueur_petale': '5.8', 'largeur_petale': '1.6', 'espece': 'iris versicolor'}\n",
      " {'id': '131', 'longueur_petale': '6.1', 'largeur_petale': '1.9', 'espece': 'iris versicolor'}\n",
      " {'id': '132', 'longueur_petale': '6.4', 'largeur_petale': '2.0', 'espece': 'iris versicolor'}\n",
      " {'id': '133', 'longueur_petale': '5.6', 'largeur_petale': '2.2', 'espece': 'iris versicolor'}\n",
      " {'id': '134', 'longueur_petale': '5.1', 'largeur_petale': '1.5', 'espece': 'iris versicolor'}\n",
      " {'id': '135', 'longueur_petale': '5.6', 'largeur_petale': '1.4', 'espece': 'iris versicolor'}\n",
      " {'id': '136', 'longueur_petale': '6.1', 'largeur_petale': '2.3', 'espece': 'iris versicolor'}\n",
      " {'id': '137', 'longueur_petale': '5.6', 'largeur_petale': '2.4', 'espece': 'iris versicolor'}\n",
      " {'id': '138', 'longueur_petale': '5.5', 'largeur_petale': '1.8', 'espece': 'iris versicolor'}\n",
      " {'id': '139', 'longueur_petale': '4.8', 'largeur_petale': '1.8', 'espece': 'iris versicolor'}\n",
      " {'id': '140', 'longueur_petale': '5.4', 'largeur_petale': '2.1', 'espece': 'iris versicolor'}\n",
      " {'id': '141', 'longueur_petale': '5.6', 'largeur_petale': '2.4', 'espece': 'iris versicolor'}\n",
      " {'id': '142', 'longueur_petale': '5.1', 'largeur_petale': '2.3', 'espece': 'iris versicolor'}\n",
      " {'id': '143', 'longueur_petale': '5.1', 'largeur_petale': '1.9', 'espece': 'iris versicolor'}\n",
      " {'id': '144', 'longueur_petale': '5.9', 'largeur_petale': '2.3', 'espece': 'iris versicolor'}\n",
      " {'id': '145', 'longueur_petale': '5.7', 'largeur_petale': '2.5', 'espece': 'iris versicolor'}\n",
      " {'id': '146', 'longueur_petale': '5.2', 'largeur_petale': '2.3', 'espece': 'iris versicolor'}\n",
      " {'id': '147', 'longueur_petale': '5.0', 'largeur_petale': '1.9', 'espece': 'iris versicolor'}\n",
      " {'id': '148', 'longueur_petale': '5.2', 'largeur_petale': '2.0', 'espece': 'iris versicolor'}\n",
      " {'id': '149', 'longueur_petale': '5.4', 'largeur_petale': '2.3', 'espece': 'iris versicolor'}\n",
      " {'id': '150', 'longueur_petale': '5.1', 'largeur_petale': '1.8', 'espece': 'iris versicolor'}]\n"
     ]
    }
   ],
   "source": [
    "# à compléter\n"
   ]
  },
  {
   "cell_type": "markdown",
   "metadata": {},
   "source": [
    "On peut désormais accéder aux 150 enregistrements de `table_iris` :"
   ]
  },
  {
   "cell_type": "code",
   "execution_count": 3,
   "metadata": {},
   "outputs": [
    {
     "data": {
      "text/plain": [
       "{'id': '1',\n",
       " 'longueur_petale': '1.4',\n",
       " 'largeur_petale': '0.2',\n",
       " 'espece': 'iris setosa'}"
      ]
     },
     "execution_count": 3,
     "metadata": {},
     "output_type": "execute_result"
    }
   ],
   "source": [
    "table_iris[0]"
   ]
  },
  {
   "cell_type": "code",
   "execution_count": 4,
   "metadata": {},
   "outputs": [
    {
     "data": {
      "text/plain": [
       "{'id': '150',\n",
       " 'longueur_petale': '5.1',\n",
       " 'largeur_petale': '1.8',\n",
       " 'espece': 'iris versicolor'}"
      ]
     },
     "execution_count": 4,
     "metadata": {},
     "output_type": "execute_result"
    }
   ],
   "source": [
    "table_iris[149]"
   ]
  },
  {
   "cell_type": "markdown",
   "metadata": {},
   "source": [
    "### <center> Question 2</center>"
   ]
  },
  {
   "cell_type": "markdown",
   "metadata": {},
   "source": [
    "<div class = \"alert bg-warning text-info\"  >\n",
    "    \n",
    "Dans la table <span class= \"text-warning\">table_iris</span>, les valeurs associées à chacun des champs sont des chaînes de caractères.  \n",
    "    \n",
    "Pour quels champs y aura-t-il besoin d'une conversion lorsqu'on effectuera des calculs ?"
   ]
  },
  {
   "cell_type": "markdown",
   "metadata": {},
   "source": [
    "__Réponse:__   \n"
   ]
  },
  {
   "cell_type": "markdown",
   "metadata": {},
   "source": [
    "Il faudra convertir les longueurs et les largeurs en float."
   ]
  },
  {
   "cell_type": "markdown",
   "metadata": {},
   "source": [
    "# <font color=#3D6BBC >3.Implémentation de l'algorithme des k plus proches voisins: </font>"
   ]
  },
  {
   "cell_type": "markdown",
   "metadata": {},
   "source": [
    "---\n",
    "<div class=\"bg-info text-success\">On rappelle que la formule de la distance dans le plan utilise les deux coordonnées $(x;y)$.\n",
    "\n",
    "$$dist(A, B) = \\sqrt{(x_B-x_A)^2 + (y_B-y_A)^2 }$$\n",
    "\n",
    "</div> \n",
    "\n",
    "---"
   ]
  },
  {
   "cell_type": "markdown",
   "metadata": {},
   "source": [
    "### <center> Question 3</center>"
   ]
  },
  {
   "cell_type": "markdown",
   "metadata": {},
   "source": [
    "<div class = \"alert bg-warning text-info\"  >\n",
    "\n",
    "\n",
    "Programmer ci-dessous le code d'une fonction <span class= \"text-warning\">calculer_distance</span> qui :  \n",
    "\n",
    "- prend en paramètres deux dictionnaires <span class= \"text-warning\">iris_a</span> et <span class= \"text-warning\">iris_b</span> ayant les deux champs  <span class= \"text-warning\">longueur_petale</span> et <span class= \"text-warning\">largeur_petale</span> comme ceux présents dans <span class= \"text-warning\">table_iris</span>\n",
    "\n",
    "\n",
    "- renvoie la distance **arrondie à trois décimales** entre ces deux iris en prenant en compte les valeurs de ces deux champs.\n",
    " \n",
    "Deux assertions qui doivent être vérifiées par votre fonction sont données ci-dessous.\n",
    " \n",
    "**Rappel :**     \n",
    "    \n",
    "- Bien penser à la question 2 du notebook.  \n",
    "    \n",
    "- On utilisera `math.sqrt` du module `math` pour calculer la racine carrée et `**` pour mettre au carré.\n",
    "\n",
    "- On utilisera `round(x, 5)` pour arrondir un nombre `x` en ne gardant que cinq décimales."
   ]
  },
  {
   "cell_type": "code",
   "execution_count": 5,
   "metadata": {},
   "outputs": [],
   "source": [
    "#à compléter \n",
    "\n"
   ]
  },
  {
   "cell_type": "code",
   "execution_count": 6,
   "metadata": {},
   "outputs": [],
   "source": [
    "iris_1 = table_iris[7]\n",
    "iris_2 = table_iris[17]\n",
    "iris_3=table_iris[100]\n",
    "\n",
    "assert(calculer_distance(iris_1, iris_2) == 0.14142)\n",
    "assert(calculer_distance(iris_2, iris_3) == 5.09902) "
   ]
  },
  {
   "cell_type": "markdown",
   "metadata": {},
   "source": [
    "### <center> Question 4</center>"
   ]
  },
  {
   "cell_type": "markdown",
   "metadata": {},
   "source": [
    "<div class = \"alert bg-warning text-info\"  >\n",
    "\n",
    "\n",
    "\n",
    "Programmer ci-dessous le code d'une fonction <span class= \"text-warning\">completer_avec_distances</span> qui :  \n",
    "\n",
    "- prend en paramètres :  \n",
    "      \n",
    "    - une table <span class= \"text-warning\">table</span> (comme <span class= \"text-warning\">table_iris</span>)  contenant des dictionnaires représentant des iris \n",
    "    \n",
    "    - un dictionnaire <span class= \"text-warning\">iris_a_classer</span> représentant un iris (celui à identifier) \n",
    "    \n",
    "\n",
    "- renvoie une table de <span class= \"text-warning\">table_iris_complete</span> , dans laquelle on a rajouté dans chacun des enregistrements un champ `distance` (dont la valeur est la distance entre l'enregistrement et `iris_a_classer` arrondie à 3 décimales)   \n",
    "\n",
    "Deux assertions qui doivent être vérifiées par votre fonction sont données ci-dessous.\n"
   ]
  },
  {
   "cell_type": "code",
   "execution_count": 7,
   "metadata": {},
   "outputs": [],
   "source": [
    "# à compléter\n",
    "\n"
   ]
  },
  {
   "cell_type": "code",
   "execution_count": 8,
   "metadata": {},
   "outputs": [],
   "source": [
    "iris_inconnu_1 = {'longueur_petale':'2.5', \n",
    "                    'largeur_petale':'0.75'}\n",
    "\n",
    "table_iris_completee = completer_avec_distance(table_iris, iris_inconnu_1)\n",
    "\n",
    "assert( table_iris_completee[7]['distance'] == 1.14127)\n",
    "assert( table_iris_completee[17]['distance'] == 1.18849 )"
   ]
  },
  {
   "cell_type": "markdown",
   "metadata": {},
   "source": [
    "### <center> Question 5</center>"
   ]
  },
  {
   "cell_type": "markdown",
   "metadata": {},
   "source": [
    "<div class = \"alert bg-warning text-info\"  >\n",
    "\n",
    "Programmer ci-dessous le code d'une fonction <span class= \"text-warning\">trier_puis_extraire</span> qui :  \n",
    "\n",
    "- prend en paramètres :  \n",
    "    \n",
    "    - une table <span class= \"text-warning\">table</span> (comme <span class= \"text-warning\">table_iris_completee</span>)  contenant des dictionnaires représentant des iris **avec en plus le champ `distance`**  \n",
    "    \n",
    "    - un nombre entier <span class= \"text-warning\">k</span>\n",
    "    \n",
    "- trie la table selon la distance croissante,\n",
    "\n",
    "- renvoie la liste <span class= \"text-warning\">k_especes</span> des espèces (c'est à dire la liste des valeurs du champ `espece`) des `k` premiers iris de la table triée\n",
    "  \n",
    "  \n",
    "\n",
    "Une assertion qui doit être vérifiée par votre fonction est donnée ci-dessous.\n",
    "    \n",
    "**Rappel :**  \n",
    "    \n",
    "- Vous aurez besoin de créer une fonction `clef_de_tri` (voir le cours sur le traitement de données en table)."
   ]
  },
  {
   "cell_type": "code",
   "execution_count": 9,
   "metadata": {},
   "outputs": [],
   "source": [
    "#à compléter\n",
    "\n",
    "\n"
   ]
  },
  {
   "cell_type": "code",
   "execution_count": 10,
   "metadata": {},
   "outputs": [],
   "source": [
    "# iris inconnu 1 à classer\n",
    "iris_inconnu_1 = {'longueur_petale':'2.5', \n",
    "                    'largeur_petale':'0.75'}\n",
    "\n",
    "# avec 1 plus proche voisin\n",
    "table_iris_completee = completer_avec_distance(table_iris, iris_inconnu_1)\n",
    "liste_k_especes = trier_puis_extraire(table_iris_completee, 1)\n",
    "assert( liste_k_especes==  ['iris virginica'])\n",
    "\n",
    "# avec 3 plus proches voisins\n",
    "table_iris_completee = completer_avec_distance(table_iris, iris_inconnu_1)\n",
    "liste_k_especes = trier_puis_extraire(table_iris_completee, 3)\n",
    "assert( liste_k_especes ==['iris virginica', 'iris setosa', 'iris setosa'])\n",
    "\n",
    "\n",
    "#Avec 5 plus proches voisins\n",
    "table_iris_completee = completer_avec_distance(table_iris, iris_inconnu_1)\n",
    "liste_k_especes = trier_puis_extraire(table_iris_completee, 5)\n",
    "assert( liste_k_especes==  ['iris virginica', 'iris setosa', 'iris setosa', 'iris setosa', 'iris virginica'])\n",
    "\n",
    "#Avec 7 plus proches voisins\n",
    "table_iris_completee = completer_avec_distance(table_iris, iris_inconnu_1)\n",
    "liste_k_especes = trier_puis_extraire(table_iris_completee, 7)\n",
    "assert( liste_k_especes ==  ['iris virginica', 'iris setosa', 'iris setosa', 'iris setosa', 'iris virginica', 'iris virginica', 'iris setosa'])"
   ]
  },
  {
   "cell_type": "markdown",
   "metadata": {},
   "source": [
    "### <center> Question 6 </center>"
   ]
  },
  {
   "cell_type": "markdown",
   "metadata": {},
   "source": [
    "<div class = \"alert bg-warning text-info\"  >\n",
    "Observer les résultats obtenus selon les différentes valeurs de k. \n",
    "Conclure sur une prédiction possible de la classe de l'iris inconnu.\n",
    "</div>"
   ]
  },
  {
   "cell_type": "markdown",
   "metadata": {},
   "source": [
    "__Réponse:__ "
   ]
  },
  {
   "cell_type": "code",
   "execution_count": null,
   "metadata": {},
   "outputs": [],
   "source": []
  },
  {
   "cell_type": "markdown",
   "metadata": {},
   "source": [
    "### <center> Question 7 </center>"
   ]
  },
  {
   "cell_type": "markdown",
   "metadata": {},
   "source": [
    "<div class = \"alert bg-warning text-info\"  >\n",
    "\n",
    "La dernière étape consiste à trouver l'élément le plus répandu dans une liste.\n",
    "\n",
    "Programmer ci-dessous le code d'une fonction <span class= \"text-warning\">extraire_element_majoritaire</span> qui :  \n",
    "\n",
    "- prend en paramètre :  une liste  <span class= \"text-warning\"> liste_element</span> (comme <span class= \"text-warning\">liste_k_especes</span>)  contenant les valeurs du champs 'espece' de la table_iris. \n",
    "\n",
    "- renvoie l'élément les plus rencontré dans cette liste\n",
    "\n",
    "Vous pourrez utiliser la méthode sorted pour trier une liste. Voir rappel ci-dessous.\n",
    "   \n",
    "    \n",
    "Une assertion vérifiée par votre fonction est donnée ci-dessous.\n",
    "    \n",
    " "
   ]
  },
  {
   "cell_type": "markdown",
   "metadata": {},
   "source": [
    "<div class = \"alert alert-danger\">\n",
    "    \n",
    "__Rappel :__\n",
    "    \n",
    "La méthode `sorted` utilisée pour trier a un avantage : elle renvoie une copie triée de la liste qui lui est fournie. La liste de départ peut donc, si on le souhaite, être laissée intacte. C'est bien car il peut arriver qu'on souhaite garder un 'original' de la liste à trier.  \n",
    "    \n",
    "Néanmoins c'est coûteux de recopier.  La méthode `sort` elle fait le contraire : elle modifie la liste à trier ce qui est moins coûteux (on dit qu'lle trie \"en place\") mais est gênant si on veut garder une trace de l'original.\n",
    "</div>"
   ]
  },
  {
   "cell_type": "code",
   "execution_count": 11,
   "metadata": {},
   "outputs": [],
   "source": [
    "# à compléter\n",
    "\n"
   ]
  },
  {
   "cell_type": "code",
   "execution_count": 12,
   "metadata": {},
   "outputs": [],
   "source": [
    "assert(extraire_element_majoritaire(['iris virginica', 'iris setosa', 'iris setosa', 'iris setosa', 'iris virginica']) == \n",
    "       'iris setosa')\n"
   ]
  },
  {
   "cell_type": "markdown",
   "metadata": {},
   "source": [
    "### <center> Question 8 </center>"
   ]
  },
  {
   "cell_type": "markdown",
   "metadata": {},
   "source": [
    "<div class = \"alert bg-warning text-info\"  >\n",
    " \n",
    "Intégrez tout ce qui précède dans une unique fonction <span class= \"text-warning\">algo_k_plus_proches_voisins</span> qui prend en paramètres :  \n",
    "    \n",
    "- un nombre entier <span class= \"text-warning\">k</span> ,  \n",
    "    \n",
    "- une table d'iris de classe connue <span class= \"text-warning\">table_iris</span> ,  \n",
    "\n",
    "- et un iris de classe inconnue <span class= \"text-warning\">iris_inconnu</span>  \n",
    "    \n",
    "et renvoie la classe de <span class= \"text-warning\">classe_iris_inconnu</span>  obtenue selon l'algorithme des k plus proches voisins.\n",
    "</div>"
   ]
  },
  {
   "cell_type": "code",
   "execution_count": 13,
   "metadata": {},
   "outputs": [],
   "source": [
    "# à compléter\n",
    "\n"
   ]
  },
  {
   "cell_type": "code",
   "execution_count": 14,
   "metadata": {},
   "outputs": [],
   "source": [
    "# iris inconnu 1 à classer\n",
    "iris_inconnu_1 = {'longueur_petale':'2.5', \n",
    "                    'largeur_petale':'0.75'}\n",
    "\n",
    "assert(algo_k_plus_proches_voisins(7, table_iris, iris_inconnu_1) == 'iris setosa')\n",
    "assert(algo_k_plus_proches_voisins(1, table_iris, iris_inconnu_1) == 'iris virginica')"
   ]
  },
  {
   "cell_type": "markdown",
   "metadata": {},
   "source": [
    "### <center> Question 9 </center>"
   ]
  },
  {
   "cell_type": "markdown",
   "metadata": {},
   "source": [
    "<div class = \"alert bg-warning text-info\"  >\n",
    " Retrouve-t-on les résultas de la question 6?\n",
    "    </div>"
   ]
  },
  {
   "cell_type": "markdown",
   "metadata": {},
   "source": [
    "__Réponse:__ "
   ]
  },
  {
   "cell_type": "code",
   "execution_count": null,
   "metadata": {},
   "outputs": [],
   "source": []
  },
  {
   "cell_type": "markdown",
   "metadata": {},
   "source": [
    "### <center> Question 10 </center>"
   ]
  },
  {
   "cell_type": "markdown",
   "metadata": {},
   "source": [
    "<div class = \"alert bg-warning text-info\"  >\n",
    "En utilisant le programme précédent faire une prédiction sur la classe de l'iris inconnu n°2.\n",
    "</div>"
   ]
  },
  {
   "cell_type": "code",
   "execution_count": null,
   "metadata": {},
   "outputs": [],
   "source": []
  }
 ],
 "metadata": {
  "kernelspec": {
   "display_name": "Python 3",
   "language": "python",
   "name": "python3"
  },
  "language_info": {
   "codemirror_mode": {
    "name": "ipython",
    "version": 3
   },
   "file_extension": ".py",
   "mimetype": "text/x-python",
   "name": "python",
   "nbconvert_exporter": "python",
   "pygments_lexer": "ipython3",
   "version": "3.7.1"
  }
 },
 "nbformat": 4,
 "nbformat_minor": 2
}
