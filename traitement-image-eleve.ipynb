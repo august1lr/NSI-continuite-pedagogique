{
 "cells": [
  {
   "cell_type": "markdown",
   "metadata": {},
   "source": [
    "# <center><font color =\"red\"> Traitement de l'image </font></center>\n"
   ]
  },
  {
   "cell_type": "markdown",
   "metadata": {},
   "source": [
    "Source : Stéphane Nédélec - Olivier Thoni"
   ]
  },
  {
   "cell_type": "markdown",
   "metadata": {},
   "source": [
    "# <font color=#3D6BBC >1. Découverte de l'image numérique et de son traitement</font>"
   ]
  },
  {
   "cell_type": "markdown",
   "metadata": {},
   "source": [
    "Si ce n'est pas déjà fait, regarder la vidéo diffusée sur france4 mardi 5 mai à 16 h.\n",
    "Vous pouvez la retrouver [ici](https://www.lumni.fr/video/notion-de-listes-en-informatique-et-application-aux-images-numeriques)\n",
    "        "
   ]
  },
  {
   "cell_type": "markdown",
   "metadata": {},
   "source": [
    "# <font color=#3D6BBC >2. les modules nécessaires pour le traitement d'images en python</font>"
   ]
  },
  {
   "cell_type": "markdown",
   "metadata": {},
   "source": [
    "Lire, exécuter et essayer de comprendre les cellules suivantes:"
   ]
  },
  {
   "cell_type": "markdown",
   "metadata": {},
   "source": [
    "### <font color=#3D6BBC >2.1. Le module PIL et ses principales méthodes </font>"
   ]
  },
  {
   "cell_type": "code",
   "execution_count": null,
   "metadata": {},
   "outputs": [],
   "source": [
    "from PIL import Image  \n",
    "# Le module PIL (Python Imaging Library) permet de manipuler un fichier image\n",
    "#(reconnaissance automatique de la largeur et de la hauteur en pixels de\n",
    "# l’image, création d’une grille de pixels,\n",
    "# chaque ligne de la grille correspondant à une ligne de pixels,\n",
    "# idem pour les colonnes).\n",
    "# La bibliothèque supporte plusieurs formats de fichier,\n",
    "# parmi lesquels PNG, JPEG, GIF, TIFF, et BMP.\n",
    "\n",
    "# ne fonctionne qu'en local"
   ]
  },
  {
   "cell_type": "markdown",
   "metadata": {},
   "source": [
    "En voici les commandes principales:"
   ]
  },
  {
   "cell_type": "markdown",
   "metadata": {},
   "source": [
    "#### - Il faut commencer par charger l'image à traiter"
   ]
  },
  {
   "cell_type": "code",
   "execution_count": null,
   "metadata": {},
   "outputs": [],
   "source": [
    "im1=Image.open(\"colibri.jpg\")\n",
    "# Charge le fichier \"colibri.jpg\"  (qui doit se trouver dans le même répertoire que votre notebook)\n",
    "# Penser à enregistrer votre notebook et l'image"
   ]
  },
  {
   "cell_type": "markdown",
   "metadata": {},
   "source": [
    "#### - Pour visualiser l'image dans une fenêtre graphique"
   ]
  },
  {
   "cell_type": "code",
   "execution_count": null,
   "metadata": {},
   "outputs": [],
   "source": [
    "im1.show()\n",
    "#affiche l'image dans une fenêtre graphique temprorairement"
   ]
  },
  {
   "cell_type": "markdown",
   "metadata": {},
   "source": [
    "#### - La méthode getpixel((x,y)"
   ]
  },
  {
   "cell_type": "code",
   "execution_count": null,
   "metadata": {},
   "outputs": [],
   "source": [
    "# affichage de la valeur du pixel en haut à gauche, sur 3 couleurs RGB\n",
    "coin_h_g=im1.getpixel((0,0))\n",
    "print(\"coin haut-gauche, triplet RGB : \", coin_h_g)\n",
    "print(coin_h_g[0])\n",
    "\n"
   ]
  },
  {
   "cell_type": "markdown",
   "metadata": {},
   "source": [
    "La méthode getpixel((x,y)) récupère la valeur du pixel se trouvant aux coordonnées (x,y) sous la forme d'un __triplet (r,v,b)__"
   ]
  },
  {
   "cell_type": "code",
   "execution_count": null,
   "metadata": {},
   "outputs": [],
   "source": [
    "pixelA=im1.getpixel((10,50))\n",
    "print(\"le pixel A de coordonnées (10,50)  a pour codage RVB : \", pixelA)\n"
   ]
  },
  {
   "cell_type": "markdown",
   "metadata": {},
   "source": [
    "Récupération de la composante bleue de ce pixel:"
   ]
  },
  {
   "cell_type": "code",
   "execution_count": null,
   "metadata": {},
   "outputs": [],
   "source": [
    "print(pixelA[2])"
   ]
  },
  {
   "cell_type": "markdown",
   "metadata": {},
   "source": [
    "#### - Affichage des dimensions de l'image avec la méthode <u>size</u>"
   ]
  },
  {
   "cell_type": "code",
   "execution_count": null,
   "metadata": {},
   "outputs": [],
   "source": [
    "largeur, hauteur = im1.size\n",
    "print(\"largeur : \", largeur)\n",
    "print(\"hauteur : \", hauteur)"
   ]
  },
  {
   "cell_type": "markdown",
   "metadata": {},
   "source": [
    "### <font color=#3D6BBC >2.2. Le module matplotlib </font>"
   ]
  },
  {
   "cell_type": "code",
   "execution_count": null,
   "metadata": {
    "colab": {},
    "colab_type": "code",
    "id": "_6lRyZMalim9"
   },
   "outputs": [],
   "source": [
    "import matplotlib.pyplot as plt\n",
    "# Commandes pour améliorer la visualiation ; \n"
   ]
  },
  {
   "cell_type": "markdown",
   "metadata": {},
   "source": [
    "#### - Affichage de l'image"
   ]
  },
  {
   "cell_type": "markdown",
   "metadata": {},
   "source": [
    "La méthode **imshow** permet d'afficher sous forme d'une image tout tableau, y compris les tableaux natifs Python compatibles avec les formats d'image"
   ]
  },
  {
   "cell_type": "markdown",
   "metadata": {},
   "source": [
    " La méthode __subplot()__ permet d’organiser différents tracés à l’intérieur d’une grille d’affichage. Il faut spécifier le nombre de lignes, le nombre de colonnes ainsi que le numéro du tracé."
   ]
  },
  {
   "cell_type": "code",
   "execution_count": null,
   "metadata": {},
   "outputs": [],
   "source": [
    "# affichage de l'image \n",
    "def affichage(im) :\n",
    "    # affiche côte-à-côte l'image originale et l'image transformée\n",
    "    plt.subplot(1,2,1) # 1 ligne , 2 colonnes, tracé 1\n",
    "    plt.imshow(im1, cmap='gray') # permet de visualiser l'image en console\n",
    "    plt.subplot(1,2,2) # 1 ligne , 2 colonnes, tracé 2\n",
    "    plt.imshow(im, cmap='gray') #im sera le nom de l'image transformée\n",
    "    plt.show()\n",
    "\n",
    "affichage(im1) #im1 : nom de l'image originale"
   ]
  },
  {
   "cell_type": "markdown",
   "metadata": {},
   "source": [
    "<font color=red > On remarque que l'origine de l'image est en haut à gauche de l'image. <br>\n",
    "L'axe des x est horizontal vers la droite (comme en math) et l'axe des y est vertical mais __vers le bas__!!</font>"
   ]
  },
  {
   "cell_type": "markdown",
   "metadata": {},
   "source": [
    "#### - Enregistrement de l'image avec PIL <u>ou</u> matplotlib"
   ]
  },
  {
   "cell_type": "code",
   "execution_count": null,
   "metadata": {},
   "outputs": [],
   "source": [
    "# enregistrement de l'image avec matplotlib\n",
    "\n",
    "def sauve_image(im) :\n",
    "                    \n",
    "    ## enregistrement de l'image depuis matplotlib.image\n",
    "    import matplotlib.image as mpimg\n",
    "    mpimg.imsave(\"resultat.png\", im)# l'enregistrement se fait au format png\n",
    "\n"
   ]
  },
  {
   "cell_type": "code",
   "execution_count": null,
   "metadata": {},
   "outputs": [],
   "source": [
    "sauve_image(im1)"
   ]
  },
  {
   "cell_type": "markdown",
   "metadata": {},
   "source": [
    "<font color=red > Vérifiez la création de votre image dans le répertoire de votre notebook.</font>"
   ]
  },
  {
   "cell_type": "code",
   "execution_count": null,
   "metadata": {},
   "outputs": [],
   "source": [
    "# enregistrement de l'image avec PIL\n",
    "def sauve_image(im) :               \n",
    "    im.save(\"resultat2.png\")"
   ]
  },
  {
   "cell_type": "code",
   "execution_count": null,
   "metadata": {},
   "outputs": [],
   "source": [
    "sauve_image(im1)"
   ]
  },
  {
   "cell_type": "markdown",
   "metadata": {},
   "source": [
    "# <font color=#3D6BBC >3. Traitement de l'image</font>"
   ]
  },
  {
   "cell_type": "markdown",
   "metadata": {},
   "source": [
    "### <font color=#3D6BBC >3.1. Réaliser un filtre rouge </font>"
   ]
  },
  {
   "cell_type": "markdown",
   "metadata": {},
   "source": [
    "### <center>Question 1 </center>"
   ]
  },
  {
   "cell_type": "markdown",
   "metadata": {},
   "source": [
    "<div class = \"alert bg-warning text-info\"  >\n",
    "Pour cela créer une fonction <span class= \"text-warning\">FlitreRouge(im)</span> qui prend comme paramètre l'image à modifier et qui renvoie l'image modifiée.<br>\n",
    "<strong> <u>Aide</u></strong>: Vous pouvez vous aider de la vidéo."
   ]
  },
  {
   "cell_type": "code",
   "execution_count": null,
   "metadata": {},
   "outputs": [],
   "source": [
    "def FiltreRouge(im):\n",
    "    # à compléter\n",
    "    "
   ]
  },
  {
   "cell_type": "markdown",
   "metadata": {},
   "source": [
    "### <center>Question 2 </center>"
   ]
  },
  {
   "cell_type": "markdown",
   "metadata": {},
   "source": [
    "<div class = \"alert bg-warning text-info\"  >\n",
    "Sauvegarder votre nouvelle image et l'afficher en vous utilisant la fonction affichage et en vous inspirant de la fonction sauve_image."
   ]
  },
  {
   "cell_type": "code",
   "execution_count": null,
   "metadata": {},
   "outputs": [],
   "source": [
    "# à compléter\n",
    "\n"
   ]
  },
  {
   "cell_type": "markdown",
   "metadata": {},
   "source": [
    "### <font color=#3D6BBC >3.2. Convertir l'image en niveau de gris </font>"
   ]
  },
  {
   "cell_type": "markdown",
   "metadata": {},
   "source": [
    "### <center>Question 3 </center>"
   ]
  },
  {
   "cell_type": "markdown",
   "metadata": {},
   "source": [
    "<div class = \"alert bg-warning text-info\"  >\n",
    "    Créer une fonction <span class= \"text-warning\">niveau_de_gris</span> qui remplace chaque composante par une seule valeur correspondant à la moyenne des 3 composantes et qui prend en paramètre l'image à modifier. <br>\n",
    "    <strong><u> Rappel : </u></strong> En niveau de gris les 3 comosantes sont égales.\n",
    "    "
   ]
  },
  {
   "cell_type": "code",
   "execution_count": null,
   "metadata": {},
   "outputs": [],
   "source": [
    "def niveau_de_gris(im):\n",
    "    #à compléter\n",
    "    "
   ]
  },
  {
   "cell_type": "markdown",
   "metadata": {},
   "source": [
    "### <center>Question 4 </center>"
   ]
  },
  {
   "cell_type": "markdown",
   "metadata": {},
   "source": [
    "<div class = \"alert bg-warning text-info\"  >\n",
    "Sauvegarder votre nouvelle image et l'afficher en vous utilisant la fonction affichage et en vous inspirant de la fonction sauve_image."
   ]
  },
  {
   "cell_type": "code",
   "execution_count": null,
   "metadata": {
    "scrolled": true
   },
   "outputs": [],
   "source": [
    "# à compléter\n"
   ]
  },
  {
   "cell_type": "code",
   "execution_count": null,
   "metadata": {},
   "outputs": [],
   "source": []
  }
 ],
 "metadata": {
  "colab": {
   "name": "Activite1.ipynb",
   "provenance": [],
   "version": "0.3.2"
  },
  "hide_input": false,
  "kernelspec": {
   "display_name": "Python 3",
   "language": "python",
   "name": "python3"
  },
  "language_info": {
   "codemirror_mode": {
    "name": "ipython",
    "version": 3
   },
   "file_extension": ".py",
   "mimetype": "text/x-python",
   "name": "python",
   "nbconvert_exporter": "python",
   "pygments_lexer": "ipython3",
   "version": "3.7.1"
  }
 },
 "nbformat": 4,
 "nbformat_minor": 1
}
